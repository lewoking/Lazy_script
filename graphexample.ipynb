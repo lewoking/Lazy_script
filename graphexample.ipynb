{
 "metadata": {
  "language_info": {
   "codemirror_mode": {
    "name": "ipython",
    "version": 3
   },
   "file_extension": ".py",
   "mimetype": "text/x-python",
   "name": "python",
   "nbconvert_exporter": "python",
   "pygments_lexer": "ipython3",
   "version": "3.8.2-final"
  },
  "orig_nbformat": 2,
  "kernelspec": {
   "name": "python3",
   "display_name": "Python 3.8.2 64-bit",
   "metadata": {
    "interpreter": {
     "hash": "31f2aee4e71d21fbe5cf8b01ff0e069b9275f58929596ceb00d14d90e3e16cd6"
    }
   }
  }
 },
 "nbformat": 4,
 "nbformat_minor": 2,
 "cells": [
  {
   "cell_type": "code",
   "execution_count": 86,
   "metadata": {},
   "outputs": [
    {
     "output_type": "stream",
     "name": "stdout",
     "text": [
      "test.xlsx\n"
     ]
    },
    {
     "output_type": "execute_result",
     "data": {
      "text/plain": [
       "        source            target  value\n",
       "0    VPN1-9P-U         PDU1-9P-U    220\n",
       "1    VPN2-9P-U         PDU2-9P-U    220\n",
       "2      RT-9P-U         PDU2-9P-U    220\n",
       "3     SW1-9P-U         PDU2-9P-U    220\n",
       "4     SW2-9P-U         PDU2-9P-U    220\n",
       "5    VPN1-9P-U         PDU3-9P-U   -220\n",
       "6    VPN2-9P-U         PDU3-9P-U   -220\n",
       "7      RT-9P-U         PDU3-9P-U   -220\n",
       "8    PDU1-9P-U   61P-UPS电源屏一-5KK    220\n",
       "9    PDU2-9P-U   61P-UPS电源屏一-5KK    220\n",
       "10   PDU3-9P-U  56P-直流电源屏三-2003K   -220\n",
       "11    NS-10P-U        PDU1-10P-U    220\n",
       "12    FW-10P-U        PDU1-10P-U    220\n",
       "13  VPN1-10P-U        PDU1-10P-U    220\n",
       "14  VPN2-10P-U        PDU1-10P-U    220\n",
       "15    RT-10P-U        PDU1-10P-U    220\n",
       "16   SW1-10P-U        PDU3-10P-U    220\n",
       "17   SW2-10P-U        PDU3-10P-U    220\n",
       "18   PC1-10P-U        PDU4-10P-U    220\n",
       "19   PC2-10P-U        PDU4-10P-U    220\n",
       "20  PDU1-10P-U  62P-UPS电源屏二-24KK    220\n",
       "21  PDU2-10P-U     53P-直流电源屏一-？K   -220\n",
       "22  PDU3-10P-U  62P-UPS电源屏二-24KK    220\n",
       "23  PDU4-10P-U  62P-UPS电源屏二-24KK    220\n",
       "24    NS-10P-U        PDU2-10P-U   -220\n",
       "25  VPN1-10P-U        PDU2-10P-U   -220\n",
       "26  VPN2-10P-U        PDU2-10P-U   -220\n",
       "27    RT-10P-U        PDU2-10P-U   -220\n",
       "28   PC1-10P-U        PDU2-10P-U   -220\n",
       "29   PC2-10P-U        PDU2-10P-U   -220\n",
       "30   DIS-10P-U        PDU4-10P-U    220"
      ],
      "text/html": "<div>\n<style scoped>\n    .dataframe tbody tr th:only-of-type {\n        vertical-align: middle;\n    }\n\n    .dataframe tbody tr th {\n        vertical-align: top;\n    }\n\n    .dataframe thead th {\n        text-align: right;\n    }\n</style>\n<table border=\"1\" class=\"dataframe\">\n  <thead>\n    <tr style=\"text-align: right;\">\n      <th></th>\n      <th>source</th>\n      <th>target</th>\n      <th>value</th>\n    </tr>\n  </thead>\n  <tbody>\n    <tr>\n      <th>0</th>\n      <td>VPN1-9P-U</td>\n      <td>PDU1-9P-U</td>\n      <td>220</td>\n    </tr>\n    <tr>\n      <th>1</th>\n      <td>VPN2-9P-U</td>\n      <td>PDU2-9P-U</td>\n      <td>220</td>\n    </tr>\n    <tr>\n      <th>2</th>\n      <td>RT-9P-U</td>\n      <td>PDU2-9P-U</td>\n      <td>220</td>\n    </tr>\n    <tr>\n      <th>3</th>\n      <td>SW1-9P-U</td>\n      <td>PDU2-9P-U</td>\n      <td>220</td>\n    </tr>\n    <tr>\n      <th>4</th>\n      <td>SW2-9P-U</td>\n      <td>PDU2-9P-U</td>\n      <td>220</td>\n    </tr>\n    <tr>\n      <th>5</th>\n      <td>VPN1-9P-U</td>\n      <td>PDU3-9P-U</td>\n      <td>-220</td>\n    </tr>\n    <tr>\n      <th>6</th>\n      <td>VPN2-9P-U</td>\n      <td>PDU3-9P-U</td>\n      <td>-220</td>\n    </tr>\n    <tr>\n      <th>7</th>\n      <td>RT-9P-U</td>\n      <td>PDU3-9P-U</td>\n      <td>-220</td>\n    </tr>\n    <tr>\n      <th>8</th>\n      <td>PDU1-9P-U</td>\n      <td>61P-UPS电源屏一-5KK</td>\n      <td>220</td>\n    </tr>\n    <tr>\n      <th>9</th>\n      <td>PDU2-9P-U</td>\n      <td>61P-UPS电源屏一-5KK</td>\n      <td>220</td>\n    </tr>\n    <tr>\n      <th>10</th>\n      <td>PDU3-9P-U</td>\n      <td>56P-直流电源屏三-2003K</td>\n      <td>-220</td>\n    </tr>\n    <tr>\n      <th>11</th>\n      <td>NS-10P-U</td>\n      <td>PDU1-10P-U</td>\n      <td>220</td>\n    </tr>\n    <tr>\n      <th>12</th>\n      <td>FW-10P-U</td>\n      <td>PDU1-10P-U</td>\n      <td>220</td>\n    </tr>\n    <tr>\n      <th>13</th>\n      <td>VPN1-10P-U</td>\n      <td>PDU1-10P-U</td>\n      <td>220</td>\n    </tr>\n    <tr>\n      <th>14</th>\n      <td>VPN2-10P-U</td>\n      <td>PDU1-10P-U</td>\n      <td>220</td>\n    </tr>\n    <tr>\n      <th>15</th>\n      <td>RT-10P-U</td>\n      <td>PDU1-10P-U</td>\n      <td>220</td>\n    </tr>\n    <tr>\n      <th>16</th>\n      <td>SW1-10P-U</td>\n      <td>PDU3-10P-U</td>\n      <td>220</td>\n    </tr>\n    <tr>\n      <th>17</th>\n      <td>SW2-10P-U</td>\n      <td>PDU3-10P-U</td>\n      <td>220</td>\n    </tr>\n    <tr>\n      <th>18</th>\n      <td>PC1-10P-U</td>\n      <td>PDU4-10P-U</td>\n      <td>220</td>\n    </tr>\n    <tr>\n      <th>19</th>\n      <td>PC2-10P-U</td>\n      <td>PDU4-10P-U</td>\n      <td>220</td>\n    </tr>\n    <tr>\n      <th>20</th>\n      <td>PDU1-10P-U</td>\n      <td>62P-UPS电源屏二-24KK</td>\n      <td>220</td>\n    </tr>\n    <tr>\n      <th>21</th>\n      <td>PDU2-10P-U</td>\n      <td>53P-直流电源屏一-？K</td>\n      <td>-220</td>\n    </tr>\n    <tr>\n      <th>22</th>\n      <td>PDU3-10P-U</td>\n      <td>62P-UPS电源屏二-24KK</td>\n      <td>220</td>\n    </tr>\n    <tr>\n      <th>23</th>\n      <td>PDU4-10P-U</td>\n      <td>62P-UPS电源屏二-24KK</td>\n      <td>220</td>\n    </tr>\n    <tr>\n      <th>24</th>\n      <td>NS-10P-U</td>\n      <td>PDU2-10P-U</td>\n      <td>-220</td>\n    </tr>\n    <tr>\n      <th>25</th>\n      <td>VPN1-10P-U</td>\n      <td>PDU2-10P-U</td>\n      <td>-220</td>\n    </tr>\n    <tr>\n      <th>26</th>\n      <td>VPN2-10P-U</td>\n      <td>PDU2-10P-U</td>\n      <td>-220</td>\n    </tr>\n    <tr>\n      <th>27</th>\n      <td>RT-10P-U</td>\n      <td>PDU2-10P-U</td>\n      <td>-220</td>\n    </tr>\n    <tr>\n      <th>28</th>\n      <td>PC1-10P-U</td>\n      <td>PDU2-10P-U</td>\n      <td>-220</td>\n    </tr>\n    <tr>\n      <th>29</th>\n      <td>PC2-10P-U</td>\n      <td>PDU2-10P-U</td>\n      <td>-220</td>\n    </tr>\n    <tr>\n      <th>30</th>\n      <td>DIS-10P-U</td>\n      <td>PDU4-10P-U</td>\n      <td>220</td>\n    </tr>\n  </tbody>\n</table>\n</div>"
     },
     "metadata": {},
     "execution_count": 86
    }
   ],
   "source": [
    "from pyecharts import options as opts\n",
    "from pyecharts.charts import Graph\n",
    "import pandas as pd\n",
    "from pyecharts.globals import ThemeType\n",
    "#---------------------------------------\n",
    " \n",
    "#导入excel数据\n",
    "excel_file=input(\"请输入EXCEL表的绝对地址：\")\n",
    "if excel_file.strip()==\"\":\n",
    "    excel_file=\"test.xlsx\"\n",
    "print(excel_file)\n",
    "   \n",
    "data=pd.read_excel(excel_file)\n",
    "#EXCEL表列名\n",
    "column_names=data.columns.values\n",
    "data"
   ]
  },
  {
   "cell_type": "code",
   "execution_count": 87,
   "metadata": {},
   "outputs": [
    {
     "output_type": "stream",
     "name": "stdout",
     "text": [
      "test.xlsx\n"
     ]
    }
   ],
   "source": [
    "source =data[['source']] \n",
    "target =data[['target']] \n",
    "nodes=pd.DataFrame({'nodes':[]})\n",
    "nodes['nodes']=pd.concat([source['source'],target['target']],axis=0,ignore_index=True) #合并源及目的数据\n",
    "node =nodes.apply(pd.value_counts)\n",
    "nodes_data = []\n",
    "links_data = []\n",
    "#---------------------------------------\n",
    " \n",
    "#主要设置\n",
    "#InitOpts：初始化配置项（在图形创建开始时即可设置)\n",
    "init_opts=opts.InitOpts(width=\"100%\",   #图宽\n",
    "                        height=\"900px\", #图高\n",
    "                        renderer=\"canvas\", #渲染模式 svg 或 canvas，即 RenderType.CANVAS 或 RenderType.SVG\n",
    "                        page_title=\"Pyecharts Graph关系图\",    #网页标题\n",
    "                        theme=ThemeType.DARK,  #主题风格可选：WHITE,LIGHT,DARK,CHALK,ESSOS,INFOGRAPHIC,MACARONS,PURPLE_PASSION,ROMA,ROMANTIC,SHINE,VINTAGE,WALDEN,WESTEROS,WONDERLAND\n",
    "                        #bg_color=\"#333333\",    #背景颜色\n",
    "                        js_host=\"\"  #js主服务位置 留空则默认官方远程主服务\n",
    "                        )\n",
    "                        \n",
    "#label_opts:节点显示文字样式设置\n",
    "#formatter结合rich可以设置丰富的文本样式 类似CSS\n",
    "label_opts=opts.LabelOpts(color=\"#008080\",\n",
    "                          distance=0,\n",
    "                          font_size=14,\n",
    "                          #font_weight=\"bold\",\n",
    "                          formatter=\"{a}\\n{x| {b} }\\n{t| {c} }\",    #{a}, {b}，{c}...，分别表示系列名，数据名，数据值等\n",
    "                          rich={\"x\":{\"color\":\"pink\",\"backgroundColor\":\"#008080\",\"borderRadius\":8,\"fontSize\":14},\"t\":{\"color\":\"yellow\"}},    #像CSS类似设置\n",
    "                          ) \n",
    "label_opts_name=opts.LabelOpts(color=\"#008080\",\n",
    "                          distance=0,\n",
    "                          font_size=14,\n",
    "                          #font_weight=\"bold\",\n",
    "                          formatter=\"{x| {b} }\",    #{a}, {b}，{c}...，分别表示系列名，数据名，数据值等\n",
    "                          rich={\"x\":{\"color\":\"pink\",\"backgroundColor\":\"rgba(0,0,0,0.1)\",\"borderRadius\":8,\"fontSize\":14}},    #像CSS类似设置\n",
    "                          )                             \n",
    "label_opts_value=opts.LabelOpts(color=\"#008080\",\n",
    "                          distance=0,\n",
    "                          font_size=14,\n",
    "                          #font_weight=\"bold\",\n",
    "                          formatter=\"{x| {c} }\",    #{a}, {b}，{c}...，分别表示系列名，数据名，数据值等\n",
    "                          rich={\"x\":{\"color\":\"pink\",\"backgroundColor\":\"rgba(0,0,0,0.1)\",\"borderRadius\":8,\"fontSize\":14}},    #像CSS类似设置\n",
    "                          ) \n",
    "#ToolboxOpts：工具栏配置（可实现图片保存等功能）\n",
    "toolbox_opts=opts.ToolboxOpts(is_show=True, #是否显示工具栏\n",
    "                              orient=\"vertical\",  #工具栏工具摆放方向\n",
    "                              pos_left=\"right\")   #工具栏左边位置\n",
    "                              \n",
    "#TooltipOpts：提示文字显示设置\n",
    "tooltip_opts=opts.TooltipOpts(formatter=\"{a}<br/>{b}<br/>{c}\",\n",
    "                              background_color=\"rgba(255,255,255,0.3)\",\n",
    "                              border_color=\"yellow\",\n",
    "                              border_width=2,\n",
    "                              )\n",
    "                            \n",
    " \n",
    "#★★★★★       \n",
    "#通过opts.ItemStyleOpts，设置node节点样式（颜色、大小、透明度)     \n",
    "itemstyle_opts=opts.ItemStyleOpts(color=\"orange\", #节点颜色\n",
    "                                  border_color=\"red\", #节点边线颜色\n",
    "                                  border_width=1,    #节点边线宽度\n",
    "                                  opacity=0.9,    #节点透明度\n",
    "                                  )\n",
    "                                  \n",
    "#节点间连接线样式设置\n",
    "linestyle_opts=opts.LineStyleOpts(is_show=True,\n",
    "                                  width=1,\n",
    "                                  opacity=0.6,\n",
    "                                  curve=0.3,\n",
    "                                  type_=\"solid\", \n",
    "                                  color=\"#008080\", \n",
    "                                 )\n",
    "linestyle_opts_repeated=opts.LineStyleOpts(is_show=True,\n",
    "                                  width=1,\n",
    "                                  opacity=0.6,\n",
    "                                  curve=0.3,\n",
    "                                  type_=\"solid\", \n",
    "                                  color=\"red\", \n",
    "                                 )\n",
    "#---------------------------------------\n",
    " \n",
    "#导入excel数据\n",
    "excel_file=input(\"请输入EXCEL表的绝对地址：\")\n",
    "if excel_file.strip()==\"\":\n",
    "    excel_file=\"test.xlsx\"\n",
    "print(excel_file)\n",
    "   \n",
    "data=pd.read_excel(excel_file,sheet_name='Sheet1')\n",
    "#EXCEL表列名\n",
    "column_names=data.columns.values\n",
    " \n",
    "#---------------------------------------\n",
    " \n",
    "#节点样式类别\n",
    "categories=[\n",
    "    {\"symbol\":\"circle\"},\n",
    "    {\"symbol\":\"roundRect\"},\n",
    "    {\"symbol\":\"triangle\"},\n",
    "    {\"symbol\":\"diamond\"},\n",
    "    {\"symbol\":\"pin\"},\n",
    "    {\"symbol\":\"rect\"},\n",
    "    {\"symbol\":\"roundRect\"},\n",
    "    {\"symbol\":\"triangle\"},\n",
    "    {\"symbol\":\"diamond\"},\n",
    "    {\"symbol\":\"pin\"},  \n",
    "]\n",
    " \n",
    "#节点样式类别补足\n",
    "if len(categories)<data.shape[1]:\n",
    "    for i in range(data.shape[1]-len(categories)):\n",
    "        categories.append({\"symbol\":\"circle\"})\n",
    "        \n",
    "#---------------------------------------"
   ]
  },
  {
   "cell_type": "code",
   "execution_count": 88,
   "metadata": {},
   "outputs": [
    {
     "output_type": "stream",
     "name": "stdout",
     "text": [
      "VPN1-9P-U 220 PDU1-9P-U\nVPN2-9P-U 220 PDU2-9P-U\nRT-9P-U 220 PDU2-9P-U\nSW1-9P-U 220 PDU2-9P-U\nSW2-9P-U 220 PDU2-9P-U\nVPN1-9P-U -220 PDU3-9P-U\nVPN2-9P-U -220 PDU3-9P-U\nRT-9P-U -220 PDU3-9P-U\nPDU1-9P-U 220 61P-UPS电源屏一-5KK\nPDU2-9P-U 220 61P-UPS电源屏一-5KK\nPDU3-9P-U -220 56P-直流电源屏三-2003K\nNS-10P-U 220 PDU1-10P-U\nFW-10P-U 220 PDU1-10P-U\nVPN1-10P-U 220 PDU1-10P-U\nVPN2-10P-U 220 PDU1-10P-U\nRT-10P-U 220 PDU1-10P-U\nSW1-10P-U 220 PDU3-10P-U\nSW2-10P-U 220 PDU3-10P-U\nPC1-10P-U 220 PDU4-10P-U\nPC2-10P-U 220 PDU4-10P-U\nPDU1-10P-U 220 62P-UPS电源屏二-24KK\nPDU2-10P-U -220 53P-直流电源屏一-？K\nPDU3-10P-U 220 62P-UPS电源屏二-24KK\nPDU4-10P-U 220 62P-UPS电源屏二-24KK\nNS-10P-U -220 PDU2-10P-U\nVPN1-10P-U -220 PDU2-10P-U\nVPN2-10P-U -220 PDU2-10P-U\nRT-10P-U -220 PDU2-10P-U\nPC1-10P-U -220 PDU2-10P-U\nPC2-10P-U -220 PDU2-10P-U\nDIS-10P-U 220 PDU4-10P-U\n"
     ]
    }
   ],
   "source": [
    "for index, row in node.iterrows():\n",
    "    # print(index,row['nodes']) # 输出每行的索引值\n",
    "    index_node=opts.GraphNode(name=index,   #节点名称 ★ 不能有重名！\n",
    "                                value=str(i), #节点值\n",
    "                                symbol_size=row['nodes'] *10,   #节点大小\n",
    "                                symbol=\"circle\",  #节点样式\n",
    "                                label_opts=label_opts_name,\n",
    "                                category=0,\n",
    "                                )\n",
    "    nodes_data.append(index_node)\n",
    "for  index, row in data.iterrows():\n",
    "    print(row['source'],row['value'],row['target']) # 输出每行的索引值\n",
    "    links_data.append({\"source\":row['source'],\"target\":row['target'],\"value\":row['value']})\n",
    "\n",
    "\n"
   ]
  },
  {
   "cell_type": "code",
   "execution_count": 90,
   "metadata": {},
   "outputs": [],
   "source": [
    "#生成图像并渲染输出\n",
    "g=(\n",
    "    Graph(init_opts)\n",
    "    .add(\"\", nodes_data, links_data, repulsion=8000,itemstyle_opts=itemstyle_opts,is_draggable=True,categories=categories,edge_label=opts.LabelOpts(\n",
    "            is_show=True, position=\"middle\", formatter=\"{c}\"\n",
    "        ))\n",
    "    .set_global_opts(title_opts=opts.TitleOpts(title=\"\"),toolbox_opts=toolbox_opts,tooltip_opts=tooltip_opts)\n",
    "    .render(\"graph.html\")\n",
    ")"
   ]
  },
  {
   "cell_type": "code",
   "execution_count": null,
   "metadata": {},
   "outputs": [],
   "source": []
  }
 ]
}