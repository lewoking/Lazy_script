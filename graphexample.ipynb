{
 "metadata": {
  "language_info": {
   "codemirror_mode": {
    "name": "ipython",
    "version": 3
   },
   "file_extension": ".py",
   "mimetype": "text/x-python",
   "name": "python",
   "nbconvert_exporter": "python",
   "pygments_lexer": "ipython3",
   "version": "3.8.2-final"
  },
  "orig_nbformat": 2,
  "kernelspec": {
   "name": "python3",
   "display_name": "Python 3.8.2 64-bit",
   "metadata": {
    "interpreter": {
     "hash": "31f2aee4e71d21fbe5cf8b01ff0e069b9275f58929596ceb00d14d90e3e16cd6"
    }
   }
  }
 },
 "nbformat": 4,
 "nbformat_minor": 2,
 "cells": [
  {
   "cell_type": "code",
   "execution_count": 16,
   "metadata": {},
   "outputs": [
    {
     "output_type": "stream",
     "name": "stdout",
     "text": [
      "test.xlsx\n"
     ]
    },
    {
     "output_type": "execute_result",
     "data": {
      "text/plain": [
       "        source            target  value\n",
       "0    VPN1-9P-U         PDU1-9P-U    220\n",
       "1    VPN2-9P-U         PDU2-9P-U    220\n",
       "2      RT-9P-U         PDU2-9P-U    220\n",
       "3     SW1-9P-U         PDU2-9P-U    220\n",
       "4     SW2-9P-U         PDU2-9P-U    220\n",
       "5    VPN1-9P-U         PDU3-9P-U   -220\n",
       "6    VPN2-9P-U         PDU3-9P-U   -220\n",
       "7      RT-9P-U         PDU3-9P-U   -220\n",
       "8    PDU1-9P-U   61P-UPS电源屏一-5KK    220\n",
       "9    PDU2-9P-U   61P-UPS电源屏一-5KK    220\n",
       "10   PDU3-9P-U  56P-直流电源屏三-2003K   -220\n",
       "11    NS-10P-U        PDU1-10P-U    220\n",
       "12    FW-10P-U        PDU1-10P-U    220\n",
       "13  VPN1-10P-U        PDU1-10P-U    220\n",
       "14  VPN2-10P-U        PDU1-10P-U    220\n",
       "15    RT-10P-U        PDU1-10P-U    220\n",
       "16   SW1-10P-U        PDU3-10P-U    220\n",
       "17   SW2-10P-U        PDU3-10P-U    220\n",
       "18   PC1-10P-U        PDU4-10P-U    220\n",
       "19   PC2-10P-U        PDU4-10P-U    220\n",
       "20  PDU1-10P-U  62P-UPS电源屏二-24KK    220\n",
       "21  PDU2-10P-U     53P-直流电源屏一-？K   -220\n",
       "22  PDU3-10P-U  62P-UPS电源屏二-24KK    220\n",
       "23  PDU4-10P-U  62P-UPS电源屏二-24KK    220\n",
       "24    NS-10P-U        PDU2-10P-U   -220\n",
       "25  VPN1-10P-U        PDU2-10P-U   -220\n",
       "26  VPN2-10P-U        PDU2-10P-U   -220\n",
       "27    RT-10P-U        PDU2-10P-U   -220\n",
       "28   PC1-10P-U        PDU2-10P-U   -220\n",
       "29   PC2-10P-U        PDU2-10P-U   -220\n",
       "30   DIS-10P-U        PDU4-10P-U    220"
      ],
      "text/html": "<div>\n<style scoped>\n    .dataframe tbody tr th:only-of-type {\n        vertical-align: middle;\n    }\n\n    .dataframe tbody tr th {\n        vertical-align: top;\n    }\n\n    .dataframe thead th {\n        text-align: right;\n    }\n</style>\n<table border=\"1\" class=\"dataframe\">\n  <thead>\n    <tr style=\"text-align: right;\">\n      <th></th>\n      <th>source</th>\n      <th>target</th>\n      <th>value</th>\n    </tr>\n  </thead>\n  <tbody>\n    <tr>\n      <th>0</th>\n      <td>VPN1-9P-U</td>\n      <td>PDU1-9P-U</td>\n      <td>220</td>\n    </tr>\n    <tr>\n      <th>1</th>\n      <td>VPN2-9P-U</td>\n      <td>PDU2-9P-U</td>\n      <td>220</td>\n    </tr>\n    <tr>\n      <th>2</th>\n      <td>RT-9P-U</td>\n      <td>PDU2-9P-U</td>\n      <td>220</td>\n    </tr>\n    <tr>\n      <th>3</th>\n      <td>SW1-9P-U</td>\n      <td>PDU2-9P-U</td>\n      <td>220</td>\n    </tr>\n    <tr>\n      <th>4</th>\n      <td>SW2-9P-U</td>\n      <td>PDU2-9P-U</td>\n      <td>220</td>\n    </tr>\n    <tr>\n      <th>5</th>\n      <td>VPN1-9P-U</td>\n      <td>PDU3-9P-U</td>\n      <td>-220</td>\n    </tr>\n    <tr>\n      <th>6</th>\n      <td>VPN2-9P-U</td>\n      <td>PDU3-9P-U</td>\n      <td>-220</td>\n    </tr>\n    <tr>\n      <th>7</th>\n      <td>RT-9P-U</td>\n      <td>PDU3-9P-U</td>\n      <td>-220</td>\n    </tr>\n    <tr>\n      <th>8</th>\n      <td>PDU1-9P-U</td>\n      <td>61P-UPS电源屏一-5KK</td>\n      <td>220</td>\n    </tr>\n    <tr>\n      <th>9</th>\n      <td>PDU2-9P-U</td>\n      <td>61P-UPS电源屏一-5KK</td>\n      <td>220</td>\n    </tr>\n    <tr>\n      <th>10</th>\n      <td>PDU3-9P-U</td>\n      <td>56P-直流电源屏三-2003K</td>\n      <td>-220</td>\n    </tr>\n    <tr>\n      <th>11</th>\n      <td>NS-10P-U</td>\n      <td>PDU1-10P-U</td>\n      <td>220</td>\n    </tr>\n    <tr>\n      <th>12</th>\n      <td>FW-10P-U</td>\n      <td>PDU1-10P-U</td>\n      <td>220</td>\n    </tr>\n    <tr>\n      <th>13</th>\n      <td>VPN1-10P-U</td>\n      <td>PDU1-10P-U</td>\n      <td>220</td>\n    </tr>\n    <tr>\n      <th>14</th>\n      <td>VPN2-10P-U</td>\n      <td>PDU1-10P-U</td>\n      <td>220</td>\n    </tr>\n    <tr>\n      <th>15</th>\n      <td>RT-10P-U</td>\n      <td>PDU1-10P-U</td>\n      <td>220</td>\n    </tr>\n    <tr>\n      <th>16</th>\n      <td>SW1-10P-U</td>\n      <td>PDU3-10P-U</td>\n      <td>220</td>\n    </tr>\n    <tr>\n      <th>17</th>\n      <td>SW2-10P-U</td>\n      <td>PDU3-10P-U</td>\n      <td>220</td>\n    </tr>\n    <tr>\n      <th>18</th>\n      <td>PC1-10P-U</td>\n      <td>PDU4-10P-U</td>\n      <td>220</td>\n    </tr>\n    <tr>\n      <th>19</th>\n      <td>PC2-10P-U</td>\n      <td>PDU4-10P-U</td>\n      <td>220</td>\n    </tr>\n    <tr>\n      <th>20</th>\n      <td>PDU1-10P-U</td>\n      <td>62P-UPS电源屏二-24KK</td>\n      <td>220</td>\n    </tr>\n    <tr>\n      <th>21</th>\n      <td>PDU2-10P-U</td>\n      <td>53P-直流电源屏一-？K</td>\n      <td>-220</td>\n    </tr>\n    <tr>\n      <th>22</th>\n      <td>PDU3-10P-U</td>\n      <td>62P-UPS电源屏二-24KK</td>\n      <td>220</td>\n    </tr>\n    <tr>\n      <th>23</th>\n      <td>PDU4-10P-U</td>\n      <td>62P-UPS电源屏二-24KK</td>\n      <td>220</td>\n    </tr>\n    <tr>\n      <th>24</th>\n      <td>NS-10P-U</td>\n      <td>PDU2-10P-U</td>\n      <td>-220</td>\n    </tr>\n    <tr>\n      <th>25</th>\n      <td>VPN1-10P-U</td>\n      <td>PDU2-10P-U</td>\n      <td>-220</td>\n    </tr>\n    <tr>\n      <th>26</th>\n      <td>VPN2-10P-U</td>\n      <td>PDU2-10P-U</td>\n      <td>-220</td>\n    </tr>\n    <tr>\n      <th>27</th>\n      <td>RT-10P-U</td>\n      <td>PDU2-10P-U</td>\n      <td>-220</td>\n    </tr>\n    <tr>\n      <th>28</th>\n      <td>PC1-10P-U</td>\n      <td>PDU2-10P-U</td>\n      <td>-220</td>\n    </tr>\n    <tr>\n      <th>29</th>\n      <td>PC2-10P-U</td>\n      <td>PDU2-10P-U</td>\n      <td>-220</td>\n    </tr>\n    <tr>\n      <th>30</th>\n      <td>DIS-10P-U</td>\n      <td>PDU4-10P-U</td>\n      <td>220</td>\n    </tr>\n  </tbody>\n</table>\n</div>"
     },
     "metadata": {},
     "execution_count": 16
    }
   ],
   "source": [
    "from pyecharts import options as opts\n",
    "from pyecharts.charts import Graph\n",
    "import pandas as pd\n",
    "#---------------------------------------\n",
    " \n",
    "#导入excel数据\n",
    "excel_file=input(\"请输入EXCEL表的绝对地址：\")\n",
    "if excel_file.strip()==\"\":\n",
    "    excel_file=\"test.xlsx\"\n",
    "print(excel_file)\n",
    "   \n",
    "data=pd.read_excel(excel_file)\n",
    "#EXCEL表列名\n",
    "column_names=data.columns.values\n",
    "data"
   ]
  },
  {
   "cell_type": "code",
   "execution_count": 33,
   "metadata": {},
   "outputs": [
    {
     "output_type": "execute_result",
     "data": {
      "text/plain": [
       "                  nodes\n",
       "PDU2-10P-U            7\n",
       "PDU1-10P-U            6\n",
       "PDU2-9P-U             5\n",
       "PDU3-9P-U             4\n",
       "PDU4-10P-U            4\n",
       "PDU3-10P-U            3\n",
       "62P-UPS电源屏二-24KK      3\n",
       "RT-10P-U              2\n",
       "61P-UPS电源屏一-5KK       2\n",
       "PC2-10P-U             2\n",
       "NS-10P-U              2\n",
       "PDU1-9P-U             2\n",
       "VPN2-10P-U            2\n",
       "VPN2-9P-U             2\n",
       "RT-9P-U               2\n",
       "PC1-10P-U             2\n",
       "VPN1-9P-U             2\n",
       "VPN1-10P-U            2\n",
       "SW1-10P-U             1\n",
       "SW2-9P-U              1\n",
       "FW-10P-U              1\n",
       "SW2-10P-U             1\n",
       "56P-直流电源屏三-2003K      1\n",
       "DIS-10P-U             1\n",
       "53P-直流电源屏一-？K         1\n",
       "SW1-9P-U              1"
      ],
      "text/html": "<div>\n<style scoped>\n    .dataframe tbody tr th:only-of-type {\n        vertical-align: middle;\n    }\n\n    .dataframe tbody tr th {\n        vertical-align: top;\n    }\n\n    .dataframe thead th {\n        text-align: right;\n    }\n</style>\n<table border=\"1\" class=\"dataframe\">\n  <thead>\n    <tr style=\"text-align: right;\">\n      <th></th>\n      <th>nodes</th>\n    </tr>\n  </thead>\n  <tbody>\n    <tr>\n      <th>PDU2-10P-U</th>\n      <td>7</td>\n    </tr>\n    <tr>\n      <th>PDU1-10P-U</th>\n      <td>6</td>\n    </tr>\n    <tr>\n      <th>PDU2-9P-U</th>\n      <td>5</td>\n    </tr>\n    <tr>\n      <th>PDU3-9P-U</th>\n      <td>4</td>\n    </tr>\n    <tr>\n      <th>PDU4-10P-U</th>\n      <td>4</td>\n    </tr>\n    <tr>\n      <th>PDU3-10P-U</th>\n      <td>3</td>\n    </tr>\n    <tr>\n      <th>62P-UPS电源屏二-24KK</th>\n      <td>3</td>\n    </tr>\n    <tr>\n      <th>RT-10P-U</th>\n      <td>2</td>\n    </tr>\n    <tr>\n      <th>61P-UPS电源屏一-5KK</th>\n      <td>2</td>\n    </tr>\n    <tr>\n      <th>PC2-10P-U</th>\n      <td>2</td>\n    </tr>\n    <tr>\n      <th>NS-10P-U</th>\n      <td>2</td>\n    </tr>\n    <tr>\n      <th>PDU1-9P-U</th>\n      <td>2</td>\n    </tr>\n    <tr>\n      <th>VPN2-10P-U</th>\n      <td>2</td>\n    </tr>\n    <tr>\n      <th>VPN2-9P-U</th>\n      <td>2</td>\n    </tr>\n    <tr>\n      <th>RT-9P-U</th>\n      <td>2</td>\n    </tr>\n    <tr>\n      <th>PC1-10P-U</th>\n      <td>2</td>\n    </tr>\n    <tr>\n      <th>VPN1-9P-U</th>\n      <td>2</td>\n    </tr>\n    <tr>\n      <th>VPN1-10P-U</th>\n      <td>2</td>\n    </tr>\n    <tr>\n      <th>SW1-10P-U</th>\n      <td>1</td>\n    </tr>\n    <tr>\n      <th>SW2-9P-U</th>\n      <td>1</td>\n    </tr>\n    <tr>\n      <th>FW-10P-U</th>\n      <td>1</td>\n    </tr>\n    <tr>\n      <th>SW2-10P-U</th>\n      <td>1</td>\n    </tr>\n    <tr>\n      <th>56P-直流电源屏三-2003K</th>\n      <td>1</td>\n    </tr>\n    <tr>\n      <th>DIS-10P-U</th>\n      <td>1</td>\n    </tr>\n    <tr>\n      <th>53P-直流电源屏一-？K</th>\n      <td>1</td>\n    </tr>\n    <tr>\n      <th>SW1-9P-U</th>\n      <td>1</td>\n    </tr>\n  </tbody>\n</table>\n</div>"
     },
     "metadata": {},
     "execution_count": 33
    }
   ],
   "source": [
    "source =data[['source']] \n",
    "target =data[['target']] \n",
    "nodes=pd.DataFrame({'nodes':[]})\n",
    "nodes['nodes']=pd.concat([source['source'],target['target']],axis=0,ignore_index=True) #合并源及目的数据\n",
    "nodes =nodes.apply(pd.value_counts)"
   ]
  },
  {
   "cell_type": "code",
   "execution_count": 36,
   "metadata": {},
   "outputs": [
    {
     "output_type": "stream",
     "name": "stdout",
     "text": [
      "nodes\n"
     ]
    }
   ],
   "source": [
    "for i in nodes :\n",
    "    print (i)"
   ]
  },
  {
   "cell_type": "code",
   "execution_count": null,
   "metadata": {},
   "outputs": [],
   "source": []
  }
 ]
}