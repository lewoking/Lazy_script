{
 "metadata": {
  "language_info": {
   "codemirror_mode": {
    "name": "ipython",
    "version": 3
   },
   "file_extension": ".py",
   "mimetype": "text/x-python",
   "name": "python",
   "nbconvert_exporter": "python",
   "pygments_lexer": "ipython3",
   "version": "3.8.2-final"
  },
  "orig_nbformat": 2,
  "kernelspec": {
   "name": "python3",
   "display_name": "Python 3.8.2 64-bit",
   "metadata": {
    "interpreter": {
     "hash": "31f2aee4e71d21fbe5cf8b01ff0e069b9275f58929596ceb00d14d90e3e16cd6"
    }
   }
  }
 },
 "nbformat": 4,
 "nbformat_minor": 2,
 "cells": [
  {
   "cell_type": "code",
   "execution_count": 50,
   "metadata": {},
   "outputs": [
    {
     "output_type": "stream",
     "name": "stdout",
     "text": [
      "test.xlsx\n"
     ]
    }
   ],
   "source": [
    "from pyecharts import options as opts\n",
    "from pyecharts.charts import Graph\n",
    "import pandas as pd\n",
    "from pyecharts.globals import ThemeType\n",
    "#---------------------------------------\n",
    " \n",
    "#导入excel数据\n",
    "excel_file=input(\"请输入EXCEL表的绝对地址：\")\n",
    "if excel_file.strip()==\"\":\n",
    "    excel_file=\"test.xlsx\"\n",
    "print(excel_file)\n",
    "   \n",
    "data=pd.read_excel(excel_file)\n",
    "#EXCEL表列名\n",
    "column_names=data.columns.values\n",
    "#data"
   ]
  },
  {
   "cell_type": "code",
   "execution_count": 51,
   "metadata": {},
   "outputs": [
    {
     "output_type": "stream",
     "name": "stdout",
     "text": [
      "       source     target  value\n0         lyq   DC48Vdzp    -48\n1         lyq       pdu1    220\n2        jmwg       pdu1    220\n3        jmwg        zk1    220\n4         nbq       pdu1    220\n5         sw1  48Vupsbox    -48\n6         sw2  48Vupsbox    -48\n7   48Vupsbox   DC48Vdzp    -48\n8   48Vupsbox        jk1    220\n9          fw       pdu1    220\n11         wa       pdu1    220\n13       pdu1        jk1    220\n14        zk1      直流馈线屏   -220\n15        zk2        nbq    -48\n16   DC48Vdzp        zk2    -48\n17        jk1  13p不间断电源屏    220\n"
     ]
    }
   ],
   "source": [
    "source =data[['source']]   #数据列名\n",
    "target =data[['target']] \n",
    "nodes=pd.DataFrame({'nodes':[]})\n",
    "nodes['nodes']=pd.concat([source['source'],target['target']],axis=0,ignore_index=True) #合并源及目的数据\n",
    "node =nodes.apply(pd.value_counts)\n",
    "nodes_data = []\n",
    "links_data = []\n",
    "datadup = data[data.duplicated()] #筛选重复内容\n",
    "data = data[data.duplicated()==False]\n",
    "print(data)\n",
    "#---------------------------------------\n",
    " \n",
    "#主要设置\n",
    "#InitOpts：初始化配置项（在图形创建开始时即可设置)\n",
    "init_opts=opts.InitOpts(width=\"100%\",   #图宽\n",
    "                        height=\"900px\", #图高\n",
    "                        renderer=\"canvas\", #渲染模式 svg 或 canvas，即 RenderType.CANVAS 或 RenderType.SVG\n",
    "                        page_title=\"Pyecharts Graph关系图\",    #网页标题\n",
    "                        theme=ThemeType.DARK,  #主题风格可选：WHITE,LIGHT,DARK,CHALK,ESSOS,INFOGRAPHIC,MACARONS,PURPLE_PASSION,ROMA,ROMANTIC,SHINE,VINTAGE,WALDEN,WESTEROS,WONDERLAND\n",
    "                        #bg_color=\"#333333\",    #背景颜色\n",
    "                        js_host=\"\"  #js主服务位置 留空则默认官方远程主服务\n",
    "                        )\n",
    "                        \n",
    "#label_opts:节点显示文字样式设置\n",
    "#formatter结合rich可以设置丰富的文本样式 类似CSS\n",
    "label_opts=opts.LabelOpts(color=\"#008080\",\n",
    "                          distance=0,\n",
    "                          font_size=14,\n",
    "                          #font_weight=\"bold\",\n",
    "                          formatter=\"{a}\\n{x| {b} }\\n{t| {c} }\",    #{a}, {b}，{c}...，分别表示系列名，数据名，数据值等\n",
    "                          rich={\"x\":{\"color\":\"pink\",\"backgroundColor\":\"#008080\",\"borderRadius\":8,\"fontSize\":14},\"t\":{\"color\":\"yellow\"}},    #像CSS类似设置\n",
    "                          ) \n",
    "label_opts_name=opts.LabelOpts(color=\"#008080\",\n",
    "                          distance=0,\n",
    "                          font_size=14,\n",
    "                          #font_weight=\"bold\",\n",
    "                          formatter=\"{x| {b} }\",    #{a}, {b}，{c}...，分别表示系列名，数据名，数据值等\n",
    "                          rich={\"x\":{\"color\":\"pink\",\"backgroundColor\":\"rgba(0,0,0,0.1)\",\"borderRadius\":8,\"fontSize\":14}},    #像CSS类似设置\n",
    "                          )                             \n",
    "label_opts_value=opts.LabelOpts(color=\"#008080\",\n",
    "                          distance=0,\n",
    "                          font_size=14,\n",
    "                          #font_weight=\"bold\",\n",
    "                          formatter=\"{x| {c} }\",    #{a}, {b}，{c}...，分别表示系列名，数据名，数据值等\n",
    "                          rich={\"x\":{\"color\":\"pink\",\"backgroundColor\":\"rgba(0,0,0,0.1)\",\"borderRadius\":8,\"fontSize\":14}},    #像CSS类似设置\n",
    "                          ) \n",
    "#ToolboxOpts：工具栏配置（可实现图片保存等功能）\n",
    "toolbox_opts=opts.ToolboxOpts(is_show=True, #是否显示工具栏\n",
    "                              orient=\"vertical\",  #工具栏工具摆放方向\n",
    "                              pos_left=\"right\")   #工具栏左边位置\n",
    "                              \n",
    "#TooltipOpts：提示文字显示设置\n",
    "tooltip_opts=opts.TooltipOpts(formatter=\"{a}<br/>{b}<br/>{c}\",\n",
    "                              background_color=\"rgba(255,255,255,0.3)\",\n",
    "                              border_color=\"yellow\",\n",
    "                              border_width=2,\n",
    "                              )\n",
    "                            \n",
    " \n",
    "#★★★★★       \n",
    "#通过opts.ItemStyleOpts，设置node节点样式（颜色、大小、透明度)     \n",
    "itemstyle_opts=opts.ItemStyleOpts(color=\"orange\", #节点颜色\n",
    "                                  border_color=\"red\", #节点边线颜色\n",
    "                                  border_width=1,    #节点边线宽度\n",
    "                                  opacity=0.9,    #节点透明度\n",
    "                                  )\n",
    "                                  \n",
    "#节点间连接线样式设置\n",
    "linestyle_opts=opts.LineStyleOpts(is_show=True,\n",
    "                                  width=1,\n",
    "                                  opacity=0.6,\n",
    "                                  curve=0.3,\n",
    "                                  type_=\"solid\", \n",
    "                                  color=\"#008080\", \n",
    "                                 )\n",
    "linestyle_opts_repeated=opts.LineStyleOpts(is_show=True,\n",
    "                                  width=1,\n",
    "                                  opacity=0.6,\n",
    "                                  curve=0.3,\n",
    "                                  type_=\"solid\", \n",
    "                                  color=\"red\", \n",
    "                                 )\n",
    "\n",
    " \n",
    "#节点样式类别\n",
    "categories=[\n",
    "    {\"symbol\":\"circle\"},\n",
    "    {\"symbol\":\"roundRect\"},\n",
    "    {\"symbol\":\"triangle\"},\n",
    "    {\"symbol\":\"diamond\"},\n",
    "    {\"symbol\":\"pin\"},\n",
    "    {\"symbol\":\"rect\"},\n",
    "    {\"symbol\":\"roundRect\"},\n",
    "    {\"symbol\":\"triangle\"},\n",
    "    {\"symbol\":\"diamond\"},\n",
    "    {\"symbol\":\"pin\"},  \n",
    "]\n",
    " \n",
    "#节点样式类别补足\n",
    "if len(categories)<data.shape[1]:\n",
    "    for i in range(data.shape[1]-len(categories)):\n",
    "        categories.append({\"symbol\":\"circle\"})\n",
    "        \n",
    "#---------------------------------------"
   ]
  },
  {
   "cell_type": "code",
   "execution_count": 52,
   "metadata": {},
   "outputs": [],
   "source": [
    "for index, row in node.iterrows():\n",
    "    # print(index,row['nodes']) # 输出每行的索引值\n",
    "    index_node=opts.GraphNode(name=index,   #节点名称 ★ 不能有重名！\n",
    "                                # value=str(i), #节点值\n",
    "                                symbol_size=row['nodes'] *100,   #节点大小\n",
    "                                symbol=\"circle\",  #节点样式\n",
    "                                label_opts=label_opts_name,\n",
    "                                category=0,\n",
    "                                )\n",
    "    nodes_data.append(index_node)\n",
    "for  index, row in datadup.iterrows():\n",
    "    links_data.append({\"source\":row['target'],\"target\":row['source'],\"value\":row['value'],\"lineStyle\":linestyle_opts_repeated,\"symbol\":[\"\",\"arrow\"]})  # or \n",
    "for  index, row in data.iterrows():\n",
    "    #print(row['source'],row['value'],row['target']) # 输出每行的索引值\n",
    "    if  row['value'] > 0 :\n",
    "        links_data.append({\"source\":row['target'],\"target\":row['source'],\"value\":row['value'],\"lineStyle\":linestyle_opts,\"symbol\":[\"\",\"arrow\"]})\n",
    "    else:\n",
    "        links_data.append({\"source\":row['target'],\"target\":row['source'],\"value\":row['value'],\"symbol\":[\"\",\"arrow\"]})  # or \"lineStyle\":linestyle_opts_repeated,\n",
    "\n",
    "\n",
    "\n",
    "\n"
   ]
  },
  {
   "cell_type": "code",
   "execution_count": 53,
   "metadata": {},
   "outputs": [],
   "source": [
    "#生成图像并渲染输出\n",
    "g=(\n",
    "    Graph(init_opts)\n",
    "    .add(\"\", nodes_data, links_data, repulsion=8000,itemstyle_opts=itemstyle_opts,is_draggable=True,categories=categories,edge_label=opts.LabelOpts(\n",
    "            is_show=True, position=\"middle\", formatter=\"{c}\"\n",
    "        ))\n",
    "    .set_global_opts(title_opts=opts.TitleOpts(title=\"\"),toolbox_opts=toolbox_opts,tooltip_opts=tooltip_opts)\n",
    "    .render(\"graph.html\")\n",
    ")"
   ]
  },
  {
   "cell_type": "code",
   "execution_count": null,
   "metadata": {},
   "outputs": [],
   "source": []
  }
 ]
}