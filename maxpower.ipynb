{
 "metadata": {
  "language_info": {
   "codemirror_mode": {
    "name": "ipython",
    "version": 3
   },
   "file_extension": ".py",
   "mimetype": "text/x-python",
   "name": "python",
   "nbconvert_exporter": "python",
   "pygments_lexer": "ipython3",
   "version": "3.7.7-final"
  },
  "orig_nbformat": 2,
  "kernelspec": {
   "name": "python37764bitbase5d1f0bf08df941cdb81e7cd6621f64a3",
   "display_name": "Python 3.7.7 64-bit ('base')",
   "language": "python"
  }
 },
 "nbformat": 4,
 "nbformat_minor": 2,
 "cells": [
  {
   "cell_type": "code",
   "execution_count": 36,
   "metadata": {},
   "outputs": [],
   "source": [
    "import pandas as pd\n",
    "import sys ,getopt\n",
    "from sqlalchemy import create_engine  \n",
    "import cx_Oracle  \n",
    "from pandas import Series,DataFrame,merge\n",
    "import numpy as np\n"
   ]
  },
  {
   "cell_type": "code",
   "execution_count": 38,
   "metadata": {},
   "outputs": [],
   "source": [
    "ln = pd.read_csv('C:\\\\Users\\\\liujg\\\\Downloads\\\\ACLN_DOT.csv',usecols=[\"ACLN_DOT_ID\",\"FAC_ID\",\"ACLN_DOT_NAME\",\"ACLN_ID\",\"BAY_ID\",\"PATHNAME\"])  #sql  取值\n",
    "brk = pd.read_csv('C:\\\\Users\\\\liujg\\\\Downloads\\\\BRK_DEVICE.csv',usecols=[\"BRK_ID\",\"FAC_ID\",\"BRK_NAME\",\"BRK_TYPE\",\"BAY_ID\",\"PATHNAME\"]) \n",
    "arg1 = '2021\n",
    "arg = '0400'\n"
   ]
  },
  {
   "cell_type": "code",
   "execution_count": 40,
   "metadata": {},
   "outputs": [
    {
     "output_type": "execute_result",
     "data": {
      "text/plain": [
       "         BRK_ID     FAC_ID   BRK_NAME  BRK_TYPE       BAY_ID  \\\n",
       "0     220000080  210000003      家34开关       NaN  2.12001e+08   \n",
       "1     220000081  210000003      家36开关       NaN  2.12001e+08   \n",
       "2     220000083  210000003      家32开关       NaN  2.12001e+08   \n",
       "3     220000084  210000007      苏38开关       NaN     2.12e+08   \n",
       "4     220000085  210000007      苏37开关       NaN     2.12e+08   \n",
       "...         ...        ...        ...       ...          ...   \n",
       "7112  220007390  210000427  七#2主变调档急停       0.0  2.12003e+08   \n",
       "7113  220007391  210000140   雁619小车开关       NaN  2.12003e+08   \n",
       "7114  220007392  210000063    祥61小车开关       2.0  2.12003e+08   \n",
       "7115  220007393  210000063    祥62小车开关       NaN  2.12003e+08   \n",
       "7116  220007394  210000063    祥64小车开关       NaN  2.12003e+08   \n",
       "\n",
       "               PATHNAME  \n",
       "0     湖北.马家磅/10kV.34断路器  \n",
       "1     湖北.马家磅/10kV.36断路器  \n",
       "2     湖北.马家磅/10kV.32断路器  \n",
       "3      荆门.苏台/35kV.38断路器  \n",
       "4      荆门.苏台/35kV.37断路器  \n",
       "...                 ...  \n",
       "7112                NaN  \n",
       "7113                NaN  \n",
       "7114   荆门.钟祥/10kV.61断路器  \n",
       "7115   荆门.钟祥/10kV.62断路器  \n",
       "7116   荆门.钟祥/10kV.64断路器  \n",
       "\n",
       "[3217 rows x 6 columns]"
      ],
      "text/html": "<div>\n<style scoped>\n    .dataframe tbody tr th:only-of-type {\n        vertical-align: middle;\n    }\n\n    .dataframe tbody tr th {\n        vertical-align: top;\n    }\n\n    .dataframe thead th {\n        text-align: right;\n    }\n</style>\n<table border=\"1\" class=\"dataframe\">\n  <thead>\n    <tr style=\"text-align: right;\">\n      <th></th>\n      <th>BRK_ID</th>\n      <th>FAC_ID</th>\n      <th>BRK_NAME</th>\n      <th>BRK_TYPE</th>\n      <th>BAY_ID</th>\n      <th>PATHNAME</th>\n    </tr>\n  </thead>\n  <tbody>\n    <tr>\n      <th>0</th>\n      <td>220000080</td>\n      <td>210000003</td>\n      <td>家34开关</td>\n      <td>NaN</td>\n      <td>2.12001e+08</td>\n      <td>湖北.马家磅/10kV.34断路器</td>\n    </tr>\n    <tr>\n      <th>1</th>\n      <td>220000081</td>\n      <td>210000003</td>\n      <td>家36开关</td>\n      <td>NaN</td>\n      <td>2.12001e+08</td>\n      <td>湖北.马家磅/10kV.36断路器</td>\n    </tr>\n    <tr>\n      <th>2</th>\n      <td>220000083</td>\n      <td>210000003</td>\n      <td>家32开关</td>\n      <td>NaN</td>\n      <td>2.12001e+08</td>\n      <td>湖北.马家磅/10kV.32断路器</td>\n    </tr>\n    <tr>\n      <th>3</th>\n      <td>220000084</td>\n      <td>210000007</td>\n      <td>苏38开关</td>\n      <td>NaN</td>\n      <td>2.12e+08</td>\n      <td>荆门.苏台/35kV.38断路器</td>\n    </tr>\n    <tr>\n      <th>4</th>\n      <td>220000085</td>\n      <td>210000007</td>\n      <td>苏37开关</td>\n      <td>NaN</td>\n      <td>2.12e+08</td>\n      <td>荆门.苏台/35kV.37断路器</td>\n    </tr>\n    <tr>\n      <th>...</th>\n      <td>...</td>\n      <td>...</td>\n      <td>...</td>\n      <td>...</td>\n      <td>...</td>\n      <td>...</td>\n    </tr>\n    <tr>\n      <th>7112</th>\n      <td>220007390</td>\n      <td>210000427</td>\n      <td>七#2主变调档急停</td>\n      <td>0.0</td>\n      <td>2.12003e+08</td>\n      <td>NaN</td>\n    </tr>\n    <tr>\n      <th>7113</th>\n      <td>220007391</td>\n      <td>210000140</td>\n      <td>雁619小车开关</td>\n      <td>NaN</td>\n      <td>2.12003e+08</td>\n      <td>NaN</td>\n    </tr>\n    <tr>\n      <th>7114</th>\n      <td>220007392</td>\n      <td>210000063</td>\n      <td>祥61小车开关</td>\n      <td>2.0</td>\n      <td>2.12003e+08</td>\n      <td>荆门.钟祥/10kV.61断路器</td>\n    </tr>\n    <tr>\n      <th>7115</th>\n      <td>220007393</td>\n      <td>210000063</td>\n      <td>祥62小车开关</td>\n      <td>NaN</td>\n      <td>2.12003e+08</td>\n      <td>荆门.钟祥/10kV.62断路器</td>\n    </tr>\n    <tr>\n      <th>7116</th>\n      <td>220007394</td>\n      <td>210000063</td>\n      <td>祥64小车开关</td>\n      <td>NaN</td>\n      <td>2.12003e+08</td>\n      <td>荆门.钟祥/10kV.64断路器</td>\n    </tr>\n  </tbody>\n</table>\n<p>3217 rows × 6 columns</p>\n</div>"
     },
     "metadata": {},
     "execution_count": 40
    }
   ],
   "source": [
    "brk['BAY_ID']=brk['BAY_ID'].fillna('null')\n",
    "brk = brk[~brk['BAY_ID'].isin(['null'])]\n",
    "ln['BAY_ID']=ln['BAY_ID'].fillna('null')\n",
    "ln = ln[~ln['BAY_ID'].isin(['null'])]\n",
    "brk\n",
    "\n"
   ]
  },
  {
   "cell_type": "code",
   "execution_count": 42,
   "metadata": {},
   "outputs": [
    {
     "output_type": "execute_result",
     "data": {
      "text/plain": [
       "     ACLN_DOT_ID     FAC_ID         ACLN_DOT_NAME    ACLN_ID       BAY_ID  \\\n",
       "0      242000041  210000003          荆门.110kV.家屈线  240000021     2.12e+08   \n",
       "1      242000042  210000034          荆门.110kV.家屈线  240000021     2.12e+08   \n",
       "3      242000356  210000097  荆门.110kV.家兴曹T接线(曹武变)  240000175  2.12001e+08   \n",
       "6      242000505  210000041           杨35－文36，杨文线  240000253  2.12001e+08   \n",
       "7      242000506  210000154           杨35－文36，杨文线  240000253  2.12003e+08   \n",
       "..           ...        ...                   ...        ...          ...   \n",
       "651    242000989  210000007            35kV冷水线苏38  240000496     2.12e+08   \n",
       "656    242000994  210000229          湖北.110kV.康里线  240000498  2.12003e+08   \n",
       "664    242000912  210000036          荆门.110kV.光柴线  240000457  2.12003e+08   \n",
       "667    242000915  210000046         湖北.220kV.林青牵线  240000459  2.12003e+08   \n",
       "669    242000917  210000046          湖北.220kV.林潜线  240000460  2.12003e+08   \n",
       "\n",
       "               PATHNAME  \n",
       "0      湖北.马家磅/110kV.家屈线  \n",
       "1       荆门.屈场/110kV.家屈线  \n",
       "3    荆门.曹武/110kV.家兴曹T接线  \n",
       "6        荆门.杨湾/35kV.杨文线  \n",
       "7        荆门.文集/35kV.杨文线  \n",
       "..                  ...  \n",
       "651                 NaN  \n",
       "656     荆门.五里/110kV.康里线  \n",
       "664     荆门.柴湖/110kV.光柴线  \n",
       "667    湖北.长林/220kV.林青牵线  \n",
       "669     湖北.长林/220kV.林潜线  \n",
       "\n",
       "[403 rows x 6 columns]"
      ],
      "text/html": "<div>\n<style scoped>\n    .dataframe tbody tr th:only-of-type {\n        vertical-align: middle;\n    }\n\n    .dataframe tbody tr th {\n        vertical-align: top;\n    }\n\n    .dataframe thead th {\n        text-align: right;\n    }\n</style>\n<table border=\"1\" class=\"dataframe\">\n  <thead>\n    <tr style=\"text-align: right;\">\n      <th></th>\n      <th>ACLN_DOT_ID</th>\n      <th>FAC_ID</th>\n      <th>ACLN_DOT_NAME</th>\n      <th>ACLN_ID</th>\n      <th>BAY_ID</th>\n      <th>PATHNAME</th>\n    </tr>\n  </thead>\n  <tbody>\n    <tr>\n      <th>0</th>\n      <td>242000041</td>\n      <td>210000003</td>\n      <td>荆门.110kV.家屈线</td>\n      <td>240000021</td>\n      <td>2.12e+08</td>\n      <td>湖北.马家磅/110kV.家屈线</td>\n    </tr>\n    <tr>\n      <th>1</th>\n      <td>242000042</td>\n      <td>210000034</td>\n      <td>荆门.110kV.家屈线</td>\n      <td>240000021</td>\n      <td>2.12e+08</td>\n      <td>荆门.屈场/110kV.家屈线</td>\n    </tr>\n    <tr>\n      <th>3</th>\n      <td>242000356</td>\n      <td>210000097</td>\n      <td>荆门.110kV.家兴曹T接线(曹武变)</td>\n      <td>240000175</td>\n      <td>2.12001e+08</td>\n      <td>荆门.曹武/110kV.家兴曹T接线</td>\n    </tr>\n    <tr>\n      <th>6</th>\n      <td>242000505</td>\n      <td>210000041</td>\n      <td>杨35－文36，杨文线</td>\n      <td>240000253</td>\n      <td>2.12001e+08</td>\n      <td>荆门.杨湾/35kV.杨文线</td>\n    </tr>\n    <tr>\n      <th>7</th>\n      <td>242000506</td>\n      <td>210000154</td>\n      <td>杨35－文36，杨文线</td>\n      <td>240000253</td>\n      <td>2.12003e+08</td>\n      <td>荆门.文集/35kV.杨文线</td>\n    </tr>\n    <tr>\n      <th>...</th>\n      <td>...</td>\n      <td>...</td>\n      <td>...</td>\n      <td>...</td>\n      <td>...</td>\n      <td>...</td>\n    </tr>\n    <tr>\n      <th>651</th>\n      <td>242000989</td>\n      <td>210000007</td>\n      <td>35kV冷水线苏38</td>\n      <td>240000496</td>\n      <td>2.12e+08</td>\n      <td>NaN</td>\n    </tr>\n    <tr>\n      <th>656</th>\n      <td>242000994</td>\n      <td>210000229</td>\n      <td>湖北.110kV.康里线</td>\n      <td>240000498</td>\n      <td>2.12003e+08</td>\n      <td>荆门.五里/110kV.康里线</td>\n    </tr>\n    <tr>\n      <th>664</th>\n      <td>242000912</td>\n      <td>210000036</td>\n      <td>荆门.110kV.光柴线</td>\n      <td>240000457</td>\n      <td>2.12003e+08</td>\n      <td>荆门.柴湖/110kV.光柴线</td>\n    </tr>\n    <tr>\n      <th>667</th>\n      <td>242000915</td>\n      <td>210000046</td>\n      <td>湖北.220kV.林青牵线</td>\n      <td>240000459</td>\n      <td>2.12003e+08</td>\n      <td>湖北.长林/220kV.林青牵线</td>\n    </tr>\n    <tr>\n      <th>669</th>\n      <td>242000917</td>\n      <td>210000046</td>\n      <td>湖北.220kV.林潜线</td>\n      <td>240000460</td>\n      <td>2.12003e+08</td>\n      <td>湖北.长林/220kV.林潜线</td>\n    </tr>\n  </tbody>\n</table>\n<p>403 rows × 6 columns</p>\n</div>"
     },
     "metadata": {},
     "execution_count": 42
    }
   ],
   "source": [
    "ln"
   ]
  },
  {
   "cell_type": "code",
   "execution_count": 48,
   "metadata": {},
   "outputs": [],
   "source": [
    "sqldb= merge(brk,ln,on=(\"BAY_ID\",\"FAC_ID\"),how='inner')"
   ]
  },
  {
   "cell_type": "code",
   "execution_count": 49,
   "metadata": {},
   "outputs": [
    {
     "output_type": "execute_result",
     "data": {
      "text/plain": [
       "        BRK_ID     FAC_ID BRK_NAME  BRK_TYPE       BAY_ID          PATHNAME_x  \\\n",
       "0    220000084  210000007    苏38开关       NaN     2.12e+08    荆门.苏台/35kV.38断路器   \n",
       "1    220000087  210000007    苏35开关       NaN     2.12e+08    荆门.苏台/35kV.35断路器   \n",
       "2    220000088  210000007    苏34开关       NaN     2.12e+08    荆门.苏台/35kV.34断路器   \n",
       "3    220000094  210000003    家38开关       NaN  2.12001e+08   湖北.马家磅/10kV.38断路器   \n",
       "4    220000002  210000003    家01开关       NaN     2.12e+08  湖北.马家磅/220kV.01断路器   \n",
       "..         ...        ...      ...       ...          ...                 ...   \n",
       "516  220005619  210000114   丽113开关       NaN  2.12001e+08   湖北.丽山/110kV.113断路   \n",
       "517  220007241  210000015    姚36开关       NaN  2.12003e+08    荆门.姚河/35kV.36断路器   \n",
       "518  220007270  210000198   掇121开关       NaN  2.12003e+08  湖北.掇刀/220kV.121断路器   \n",
       "519  220007209  210000046    林03开关       NaN  2.12003e+08   湖北.长林/220kV.03断路器   \n",
       "520  220007211  210000180   春119开关       0.0  2.12003e+08  荆门.迎春/110kV.119断路器   \n",
       "\n",
       "     ACLN_DOT_ID  ACLN_DOT_NAME    ACLN_ID         PATHNAME_y  \n",
       "0      242000989     35kV冷水线苏38  240000496                NaN  \n",
       "1      242000350   苏35－摩336，摩根线  240000172     荆门.苏台/35kV.摩根线  \n",
       "2      242000344    苏34－众38，众和线  240000169     荆门.苏台/35kV.众和线  \n",
       "3      242000721  家38－京61，家京联络线  240000362  湖北.马家磅/10kV.家京联络线  \n",
       "4      242000166   湖北.220kV.郢家线  240000083   湖北.马家磅/220kV.郢家线  \n",
       "..           ...            ...        ...                ...  \n",
       "516    242000483   荆门.110kV.丽杨线  240000242    湖北.丽山/110kV.丽杨线  \n",
       "517    242000921  姚36－栗34，姚栗二回线  240000462   荆门.姚河/35kV.姚栗二回线  \n",
       "518    242000927   湖北.110kV.掇花线  240000465    湖北.掇刀/110kV.掇花线  \n",
       "519    242000915  湖北.220kV.林青牵线  240000459   湖北.长林/220kV.林青牵线  \n",
       "520    242000880   湖北.110kV.绿春线  240000441    荆门.迎春/110kV.绿春线  \n",
       "\n",
       "[521 rows x 10 columns]"
      ],
      "text/html": "<div>\n<style scoped>\n    .dataframe tbody tr th:only-of-type {\n        vertical-align: middle;\n    }\n\n    .dataframe tbody tr th {\n        vertical-align: top;\n    }\n\n    .dataframe thead th {\n        text-align: right;\n    }\n</style>\n<table border=\"1\" class=\"dataframe\">\n  <thead>\n    <tr style=\"text-align: right;\">\n      <th></th>\n      <th>BRK_ID</th>\n      <th>FAC_ID</th>\n      <th>BRK_NAME</th>\n      <th>BRK_TYPE</th>\n      <th>BAY_ID</th>\n      <th>PATHNAME_x</th>\n      <th>ACLN_DOT_ID</th>\n      <th>ACLN_DOT_NAME</th>\n      <th>ACLN_ID</th>\n      <th>PATHNAME_y</th>\n    </tr>\n  </thead>\n  <tbody>\n    <tr>\n      <th>0</th>\n      <td>220000084</td>\n      <td>210000007</td>\n      <td>苏38开关</td>\n      <td>NaN</td>\n      <td>2.12e+08</td>\n      <td>荆门.苏台/35kV.38断路器</td>\n      <td>242000989</td>\n      <td>35kV冷水线苏38</td>\n      <td>240000496</td>\n      <td>NaN</td>\n    </tr>\n    <tr>\n      <th>1</th>\n      <td>220000087</td>\n      <td>210000007</td>\n      <td>苏35开关</td>\n      <td>NaN</td>\n      <td>2.12e+08</td>\n      <td>荆门.苏台/35kV.35断路器</td>\n      <td>242000350</td>\n      <td>苏35－摩336，摩根线</td>\n      <td>240000172</td>\n      <td>荆门.苏台/35kV.摩根线</td>\n    </tr>\n    <tr>\n      <th>2</th>\n      <td>220000088</td>\n      <td>210000007</td>\n      <td>苏34开关</td>\n      <td>NaN</td>\n      <td>2.12e+08</td>\n      <td>荆门.苏台/35kV.34断路器</td>\n      <td>242000344</td>\n      <td>苏34－众38，众和线</td>\n      <td>240000169</td>\n      <td>荆门.苏台/35kV.众和线</td>\n    </tr>\n    <tr>\n      <th>3</th>\n      <td>220000094</td>\n      <td>210000003</td>\n      <td>家38开关</td>\n      <td>NaN</td>\n      <td>2.12001e+08</td>\n      <td>湖北.马家磅/10kV.38断路器</td>\n      <td>242000721</td>\n      <td>家38－京61，家京联络线</td>\n      <td>240000362</td>\n      <td>湖北.马家磅/10kV.家京联络线</td>\n    </tr>\n    <tr>\n      <th>4</th>\n      <td>220000002</td>\n      <td>210000003</td>\n      <td>家01开关</td>\n      <td>NaN</td>\n      <td>2.12e+08</td>\n      <td>湖北.马家磅/220kV.01断路器</td>\n      <td>242000166</td>\n      <td>湖北.220kV.郢家线</td>\n      <td>240000083</td>\n      <td>湖北.马家磅/220kV.郢家线</td>\n    </tr>\n    <tr>\n      <th>...</th>\n      <td>...</td>\n      <td>...</td>\n      <td>...</td>\n      <td>...</td>\n      <td>...</td>\n      <td>...</td>\n      <td>...</td>\n      <td>...</td>\n      <td>...</td>\n      <td>...</td>\n    </tr>\n    <tr>\n      <th>516</th>\n      <td>220005619</td>\n      <td>210000114</td>\n      <td>丽113开关</td>\n      <td>NaN</td>\n      <td>2.12001e+08</td>\n      <td>湖北.丽山/110kV.113断路</td>\n      <td>242000483</td>\n      <td>荆门.110kV.丽杨线</td>\n      <td>240000242</td>\n      <td>湖北.丽山/110kV.丽杨线</td>\n    </tr>\n    <tr>\n      <th>517</th>\n      <td>220007241</td>\n      <td>210000015</td>\n      <td>姚36开关</td>\n      <td>NaN</td>\n      <td>2.12003e+08</td>\n      <td>荆门.姚河/35kV.36断路器</td>\n      <td>242000921</td>\n      <td>姚36－栗34，姚栗二回线</td>\n      <td>240000462</td>\n      <td>荆门.姚河/35kV.姚栗二回线</td>\n    </tr>\n    <tr>\n      <th>518</th>\n      <td>220007270</td>\n      <td>210000198</td>\n      <td>掇121开关</td>\n      <td>NaN</td>\n      <td>2.12003e+08</td>\n      <td>湖北.掇刀/220kV.121断路器</td>\n      <td>242000927</td>\n      <td>湖北.110kV.掇花线</td>\n      <td>240000465</td>\n      <td>湖北.掇刀/110kV.掇花线</td>\n    </tr>\n    <tr>\n      <th>519</th>\n      <td>220007209</td>\n      <td>210000046</td>\n      <td>林03开关</td>\n      <td>NaN</td>\n      <td>2.12003e+08</td>\n      <td>湖北.长林/220kV.03断路器</td>\n      <td>242000915</td>\n      <td>湖北.220kV.林青牵线</td>\n      <td>240000459</td>\n      <td>湖北.长林/220kV.林青牵线</td>\n    </tr>\n    <tr>\n      <th>520</th>\n      <td>220007211</td>\n      <td>210000180</td>\n      <td>春119开关</td>\n      <td>0.0</td>\n      <td>2.12003e+08</td>\n      <td>荆门.迎春/110kV.119断路器</td>\n      <td>242000880</td>\n      <td>湖北.110kV.绿春线</td>\n      <td>240000441</td>\n      <td>荆门.迎春/110kV.绿春线</td>\n    </tr>\n  </tbody>\n</table>\n<p>521 rows × 10 columns</p>\n</div>"
     },
     "metadata": {},
     "execution_count": 49
    }
   ],
   "source": [
    "sqldb"
   ]
  },
  {
   "cell_type": "code",
   "execution_count": 1,
   "metadata": {},
   "outputs": [
    {
     "output_type": "stream",
     "name": "stdout",
     "text": [
      "3.7.7 (default, May  6 2020, 11:45:54) [MSC v.1916 64 bit (AMD64)]\nC:\\ProgramData\\Miniconda3;C:\\ProgramData\\Miniconda3\\Library\\mingw-w64\\bin;C:\\ProgramData\\Miniconda3\\Library\\usr\\bin;C:\\ProgramData\\Miniconda3\\Library\\bin;C:\\ProgramData\\Miniconda3\\Scripts;C:\\ProgramData\\Miniconda3\\bin;C:\\ProgramData\\Miniconda3\\condabin;C:\\ProgramData\\Miniconda3;C:\\ProgramData\\Miniconda3\\Library\\mingw-w64\\bin;C:\\ProgramData\\Miniconda3\\Library\\usr\\bin;C:\\ProgramData\\Miniconda3\\Library\\bin;C:\\ProgramData\\Miniconda3\\Scripts;C:\\WINDOWS\\system32;C:\\WINDOWS;C:\\WINDOWS\\System32\\Wbem;C:\\WINDOWS\\System32\\WindowsPowerShell\\v1.0;C:\\WINDOWS\\System32\\OpenSSH;D:\\Program Files\\git\\bin;C:\\Program Files (x86)\\ZeroTier\\One;D:\\adb;C:\\Program Files\\nodejs;C:\\Users\\liujg\\AppData\\Local\\Microsoft\\WindowsApps;C:\\Users\\liujg\\AppData\\Local\\Programs\\Microsoft VS Code\\bin;C:\\Users\\liujg\\AppData\\Roaming\\TinyTeX\\bin\\win32;C:\\Users\\liujg\\AppData\\Roaming\\npm\n"
     ]
    },
    {
     "output_type": "error",
     "ename": "DatabaseError",
     "evalue": "DPI-1047: Cannot locate a 64-bit Oracle Client library: \"The specified module could not be found\". See https://cx-oracle.readthedocs.io/en/latest/user_guide/installation.html for help",
     "traceback": [
      "\u001b[1;31m---------------------------------------------------------------------------\u001b[0m",
      "\u001b[1;31mDatabaseError\u001b[0m                             Traceback (most recent call last)",
      "\u001b[1;32m<ipython-input-1-a693507e7609>\u001b[0m in \u001b[0;36m<module>\u001b[1;34m\u001b[0m\n\u001b[0;32m      7\u001b[0m \u001b[0mprint\u001b[0m\u001b[1;33m(\u001b[0m\u001b[0mos\u001b[0m\u001b[1;33m.\u001b[0m\u001b[0menviron\u001b[0m\u001b[1;33m[\u001b[0m\u001b[1;34m'path'\u001b[0m\u001b[1;33m]\u001b[0m\u001b[1;33m)\u001b[0m\u001b[1;33m\u001b[0m\u001b[1;33m\u001b[0m\u001b[0m\n\u001b[0;32m      8\u001b[0m \u001b[1;33m\u001b[0m\u001b[0m\n\u001b[1;32m----> 9\u001b[1;33m \u001b[0mcon\u001b[0m \u001b[1;33m=\u001b[0m \u001b[0mcx_Oracle\u001b[0m\u001b[1;33m.\u001b[0m\u001b[0mconnect\u001b[0m\u001b[1;33m(\u001b[0m\u001b[1;34m'USER/pass@host:port/SID'\u001b[0m\u001b[1;33m)\u001b[0m\u001b[1;33m\u001b[0m\u001b[1;33m\u001b[0m\u001b[0m\n\u001b[0m\u001b[0;32m     10\u001b[0m \u001b[0mprint\u001b[0m \u001b[1;33m(\u001b[0m\u001b[0mcon\u001b[0m\u001b[1;33m.\u001b[0m\u001b[0mversion\u001b[0m\u001b[1;33m)\u001b[0m\u001b[1;33m\u001b[0m\u001b[1;33m\u001b[0m\u001b[0m\n\u001b[0;32m     11\u001b[0m \u001b[1;33m\u001b[0m\u001b[0m\n",
      "\u001b[1;31mDatabaseError\u001b[0m: DPI-1047: Cannot locate a 64-bit Oracle Client library: \"The specified module could not be found\". See https://cx-oracle.readthedocs.io/en/latest/user_guide/installation.html for help"
     ]
    }
   ],
   "source": [
    "import cx_Oracle\n",
    "import os\n",
    "import sys\n",
    "\n",
    "print(sys.version)\n",
    "#print(os.environ['ORACLE_HOME'])\n",
    "print(os.environ['path'])\n",
    "\n",
    "con = cx_Oracle.connect('USER/pass@host:port/SID')\n",
    "print (con.version)\n",
    "\n",
    "con.close()"
   ]
  },
  {
   "cell_type": "code",
   "execution_count": null,
   "metadata": {},
   "outputs": [],
   "source": []
  }
 ]
}